{
 "cells": [
  {
   "cell_type": "code",
   "execution_count": 1,
   "metadata": {},
   "outputs": [],
   "source": [
    "import numpy as np\n",
    "import matplotlib.pyplot as plt\n",
    "import time"
   ]
  },
  {
   "cell_type": "markdown",
   "metadata": {},
   "source": [
    "# Problem 27\n",
    "### For ease of explanation, we will first define some functions for the DFT. While scipy has an fft module which computes the FFT for us, for completeness we will also create our own DFT matrix"
   ]
  },
  {
   "cell_type": "code",
   "execution_count": 2,
   "metadata": {},
   "outputs": [],
   "source": [
    "from  scipy.fft import fft\n",
    "\n",
    "def DFT_matrix(N:int)->np.ndarray:\n",
    "    \"\"\"\n",
    "    Function to generate matrix which performs\n",
    "    DFT on a vector of length N\n",
    "\n",
    "    Parameters:\n",
    "    -----------\n",
    "    N:int\n",
    "        Length of vector to perform DFT on\n",
    "\n",
    "    Returns:\n",
    "    --------\n",
    "    W: np.ndarray\n",
    "        DFT matrix\n",
    "\n",
    "    \"\"\"\n",
    "    W = np.zeros((N,N),dtype=complex)\n",
    "    for l in range(N):\n",
    "        for m in range(N):\n",
    "            W[l,m] = np.exp(-2*np.pi*1.j*l*m/N)\n",
    "    return W"
   ]
  },
  {
   "cell_type": "markdown",
   "metadata": {},
   "source": [
    "### We now define the relevant functions for DCT-1. We will break this into three components \n",
    "1. A straightforward implementation to check ourselves. Just exactly use the formula as written\n",
    "2. A DFT version which uses our custom function to generate the DFT matrix\n",
    "3. An FFT version using scipy's fft"
   ]
  },
  {
   "cell_type": "code",
   "execution_count": 3,
   "metadata": {},
   "outputs": [],
   "source": [
    "def DCT_1_straightforward(x:np.array)->np.array:\n",
    "    \"\"\"\n",
    "    Straightfoward compuation of DCT-1\n",
    "    without using DFT/FFT trick. Using a list \n",
    "    comprehension.\n",
    "\n",
    "    Parameters:\n",
    "    ----------\n",
    "    x: np.array\n",
    "        Array to compute DCT-1 on \n",
    "\n",
    "    Returns:\n",
    "    --------\n",
    "    y: np.array\n",
    "        DCT-1 computed Array\n",
    "    \n",
    "    \"\"\"\n",
    "    N = len(x)\n",
    "    y = np.array([x[0]/2+x[-1]*np.power(-1,k)/2+sum([x[j]*np.cos(np.pi/(N-1)*j*k) for j in range(1,N-1)])\n",
    "                   for k in range(N)])\n",
    "    return y\n",
    "\n",
    "def DCT_1_FFT_using_scipy(x:np.array)->np.array:\n",
    "    \"\"\"\n",
    "    Computation of DCT-1 using \n",
    "    FFT given by scipy\n",
    "\n",
    "    Parameters:\n",
    "    ----------\n",
    "    x: np.array\n",
    "        Array to compute DCT-1 on \n",
    "\n",
    "    Returns:\n",
    "    --------\n",
    "    y: np.array\n",
    "        DCT-1 computed Array\n",
    "    \n",
    "    \"\"\"\n",
    "    N= len(x)\n",
    "    #Generate vector of length 2N-2 for FFT\n",
    "    fft_vect = np.zeros(2*N-2)\n",
    "    fft_vect[0] = x[0]/2\n",
    "    fft_vect[N-1] = x[N-1]/2\n",
    "    fft_vect[1:N-1] = x[1:N-1]/2\n",
    "    # [::-1] is just a fancy string indexing way of writing reverse\n",
    "    fft_vect[N:2*N-2] = x[1:N-1][::-1]/2\n",
    "    y = fft(fft_vect)[:N]\n",
    "    return y\n",
    "\n",
    "def DCT_1_DFT_without_scipy(x:np.array)->np.array:\n",
    "    \"\"\"\n",
    "    DFT computation of DCT-1\n",
    "    using custom DFT-matrix. \n",
    "\n",
    "    Parameters:\n",
    "    ----------\n",
    "    x: np.array\n",
    "        Array to compute DCT-1 on \n",
    "\n",
    "    Returns:\n",
    "    --------\n",
    "    y: np.array\n",
    "        DCT-1 computed Array\n",
    "    \n",
    "    \"\"\"\n",
    "    N= len(x)\n",
    "    #Generate vector of length 2N-2 for DFT\n",
    "    fft_vect = np.zeros(2*N-2)\n",
    "    fft_vect[0] = x[0]/2\n",
    "    fft_vect[N-1] = x[N-1]/2\n",
    "    fft_vect[1:N-1] = x[1:N-1]/2\n",
    "    # [::-1] is just a fancy string indexing way of writing reverse\n",
    "    fft_vect[N:2*N-2] = x[1:N-1][::-1]/2\n",
    "    DFT_mat = DFT_matrix(2*N-2)\n",
    "    y = (DFT_mat@fft_vect)[:N]\n",
    "    return y"
   ]
  },
  {
   "cell_type": "markdown",
   "metadata": {},
   "source": [
    "### We now must test that our two implementations actually agree. Our proof indicates this should be the case, but we must check that our implementation agrees. We will use random data to test. "
   ]
  },
  {
   "cell_type": "code",
   "execution_count": 4,
   "metadata": {},
   "outputs": [
    {
     "name": "stdout",
     "output_type": "stream",
     "text": [
      "Straigtforward agrees with DFT? True\n",
      "Straigtforward agrees with FFT? True\n"
     ]
    }
   ],
   "source": [
    "N = np.random.randint(low=2,high=10)\n",
    "x = np.random.randn(N)\n",
    "print(f\"Straigtforward agrees with DFT? {np.allclose(DCT_1_straightforward(x),DCT_1_DFT_without_scipy(x))}\")\n",
    "print(f\"Straigtforward agrees with FFT? {np.allclose(DCT_1_straightforward(x),DCT_1_FFT_using_scipy(x))}\")"
   ]
  },
  {
   "cell_type": "markdown",
   "metadata": {},
   "source": [
    "### Now we may move on to the discrete sine transform (DST-1). Again, we provide \n",
    "1. A straightforward implementation to check ourselves. Just exactly use the formula as written\n",
    "2. A DFT version which uses our custom function to generate the DFT matrix\n",
    "3. An FFT version using scipy's fft"
   ]
  },
  {
   "cell_type": "code",
   "execution_count": 5,
   "metadata": {},
   "outputs": [],
   "source": [
    "def DST_1_straightforward(x:np.array)->np.array:\n",
    "    \"\"\"\n",
    "    Straightfoward compuation of DST-1\n",
    "    without using DFT/FFT trick. Using a list \n",
    "    comprehension.\n",
    "\n",
    "    Parameters:\n",
    "    ----------\n",
    "    x: np.array\n",
    "        Array to compute DST-1 on \n",
    "\n",
    "    Returns:\n",
    "    --------\n",
    "    y: np.array\n",
    "        DST-1 computed Array\n",
    "    \n",
    "    \"\"\"\n",
    "    N = len(x)\n",
    "    y = np.array([sum([x[j]*np.sin(np.pi/(N+1)*(j+1)*(k+1)) for j in range(N)])\n",
    "                   for k in range(N)])\n",
    "    return y\n",
    "\n",
    "def DST_1_FFT_using_scipy(x:np.array)->np.array:\n",
    "    \"\"\"\n",
    "    Computation of DST-1 using \n",
    "    FFT given by scipy\n",
    "\n",
    "    Parameters:\n",
    "    ----------\n",
    "    x: np.array\n",
    "        Array to compute DCT-1 on \n",
    "\n",
    "    Returns:\n",
    "    --------\n",
    "    y: np.array\n",
    "        DCT-1 computed Array\n",
    "    \n",
    "    \"\"\"\n",
    "    N= len(x)\n",
    "    #Generate vector of length 2N-2 for FFT\n",
    "    fft_vect = np.zeros(2*N+2,dtype=complex)\n",
    "    fft_vect[1:N+1] = x\n",
    "    # [::-1] is just a fancy string indexing way of writing reverse\n",
    "    fft_vect[N+2:2*N+2] = -x[::-1]\n",
    "    y = 1.j/2*fft(fft_vect)[1:N+1]\n",
    "    return y\n",
    "\n",
    "def DST_1_DFT_without_scipy(x:np.array)->np.array:\n",
    "    \"\"\"\n",
    "    DFT computation of DST-1\n",
    "    using custom DFT-matrix. \n",
    "\n",
    "    Parameters:\n",
    "    ----------\n",
    "    x: np.array\n",
    "        Array to compute DCT-1 on \n",
    "\n",
    "    Returns:\n",
    "    --------\n",
    "    y: np.array\n",
    "        DCT-1 computed Array\n",
    "    \n",
    "    \"\"\"\n",
    "    N= len(x)\n",
    "    #Generate vector of length 2N+2 for DFT\n",
    "    fft_vect = np.zeros(2*N+2,dtype=complex)\n",
    "    fft_vect[1:N+1] = x\n",
    "    # [::-1] is just a fancy string indexing way of writing reverse\n",
    "    fft_vect[N+2:2*N+2] = -x[::-1]\n",
    "    DFT_mat = DFT_matrix(2*N+2)\n",
    "    y = 1.j/2*(DFT_mat@fft_vect)[1:N+1]\n",
    "    return y"
   ]
  },
  {
   "cell_type": "markdown",
   "metadata": {},
   "source": [
    "### We again must check our implementation. We will again use random data. "
   ]
  },
  {
   "cell_type": "code",
   "execution_count": 6,
   "metadata": {},
   "outputs": [
    {
     "name": "stdout",
     "output_type": "stream",
     "text": [
      "Straigtforward agrees with DFT? True\n",
      "Straigtforward agrees with FFT? True\n"
     ]
    }
   ],
   "source": [
    "N = np.random.randint(low=2,high=10)\n",
    "x = np.random.randn(N)\n",
    "print(f\"Straigtforward agrees with DFT? {np.allclose(DST_1_straightforward(x),DST_1_DFT_without_scipy(x))}\")\n",
    "print(f\"Straigtforward agrees with FFT? {np.allclose(DST_1_straightforward(x),DST_1_FFT_using_scipy(x))}\")"
   ]
  },
  {
   "cell_type": "markdown",
   "metadata": {},
   "source": [
    "### We can even time our functions to check their efficiency and motivate the FFT implementation"
   ]
  },
  {
   "cell_type": "code",
   "execution_count": 11,
   "metadata": {},
   "outputs": [
    {
     "name": "stdout",
     "output_type": "stream",
     "text": [
      "Standard took 9.624359607696533 seconds.\n",
      "FFT took 0.0\n"
     ]
    }
   ],
   "source": [
    "N = 3000\n",
    "x = np.random.randn(N)\n",
    "time_1 = time.time()\n",
    "DST_1_straightforward(x)\n",
    "time_2 = time.time()\n",
    "time_3 = time.time()\n",
    "DST_1_FFT_using_scipy(x)\n",
    "time_4 = time.time()\n",
    "print(f\"Standard took {time_2-time_1} seconds.\")\n",
    "print(f\"FFT took {time_4-time_3}\")\n"
   ]
  }
 ],
 "metadata": {
  "kernelspec": {
   "display_name": "base",
   "language": "python",
   "name": "python3"
  },
  "language_info": {
   "codemirror_mode": {
    "name": "ipython",
    "version": 3
   },
   "file_extension": ".py",
   "mimetype": "text/x-python",
   "name": "python",
   "nbconvert_exporter": "python",
   "pygments_lexer": "ipython3",
   "version": "3.11.2"
  }
 },
 "nbformat": 4,
 "nbformat_minor": 2
}
