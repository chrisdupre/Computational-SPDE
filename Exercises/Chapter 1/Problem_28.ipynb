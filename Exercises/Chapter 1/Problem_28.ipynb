{
 "cells": [
  {
   "cell_type": "code",
   "execution_count": 1,
   "metadata": {},
   "outputs": [],
   "source": [
    "import numpy as np\n",
    "import matplotlib.pyplot as plt\n",
    "from typing import List\n",
    "import time "
   ]
  },
  {
   "cell_type": "markdown",
   "metadata": {},
   "source": [
    "## Problem 28"
   ]
  },
  {
   "cell_type": "markdown",
   "metadata": {},
   "source": [
    "### For this problem, we will be using some functions we wrote in a previous exercise. Let's go grab them from the utilities folder"
   ]
  },
  {
   "cell_type": "code",
   "execution_count": 2,
   "metadata": {},
   "outputs": [],
   "source": [
    "import sys\n",
    "import os \n",
    "from pathlib import Path\n",
    "root = Path(os.getcwd()).parent.parent\n",
    "sys.path.append(os.path.join(root,\"Utilities\"))\n",
    "from shared_functions import DCT_1,DST_1"
   ]
  },
  {
   "cell_type": "markdown",
   "metadata": {},
   "source": [
    "### We can now plot the desired functions. Let's first write them down so we can call them later."
   ]
  },
  {
   "cell_type": "code",
   "execution_count": 3,
   "metadata": {},
   "outputs": [],
   "source": [
    "def u_N(x:float,\n",
    "        N:int)->float:\n",
    "    \"\"\"\n",
    "    Truncated series for (1.37)\n",
    "\n",
    "    Parameters:\n",
    "    ----------\n",
    "    x: float\n",
    "        Real number in (-\\pi,\\pi)\n",
    "    N: int\n",
    "        Truncation parameter\n",
    "\n",
    "    Returns:\n",
    "    :float\n",
    "        Output of function\n",
    "    \"\"\"\n",
    "    return sum([2/(j+1)*np.power(-1,j)*np.sin((j+1)*x) for j in range(N)])\n",
    "\n",
    "def v_N(x:float,\n",
    "        N:int)->float:\n",
    "    \"\"\"\n",
    "    Truncated series for (1.38)\n",
    "\n",
    "    Parameters:\n",
    "    ----------\n",
    "    x: float\n",
    "        Real number in (-\\pi,\\pi)\n",
    "    N: int\n",
    "        Truncation parameter\n",
    "\n",
    "    Returns:\n",
    "    --------\n",
    "    :float\n",
    "        Output of function\n",
    "    \"\"\"\n",
    "    return np.pi/2+sum([2/np.pi*np.power(j,-2.)*(np.cos(j*np.pi)-1)*np.cos(j*x) for j in range(1,N)])\n",
    "\n",
    "\n",
    "u_N_vec = np.vectorize(u_N,excluded=['N'])\n",
    "v_N_vec = np.vectorize(v_N,excluded=['N'])"
   ]
  },
  {
   "cell_type": "markdown",
   "metadata": {},
   "source": [
    "### We now need to generate the values of N we wish to plot. You may replace the list below with your list of choice, but we will use the following list."
   ]
  },
  {
   "cell_type": "code",
   "execution_count": 8,
   "metadata": {},
   "outputs": [],
   "source": [
    "N_arr = [3,10,15,20,40,50]"
   ]
  },
  {
   "cell_type": "code",
   "execution_count": 9,
   "metadata": {},
   "outputs": [],
   "source": [
    "def plot_u_N_vs_truth(N_arr:List[int]):\n",
    "    \"\"\"\n",
    "    Plots u_N computed by straight line\n",
    "    interpolation of FFT of points\n",
    "    as described in the problem vs the true \n",
    "    curve\n",
    "\n",
    "    Parameters:\n",
    "    ----------\n",
    "    N_arr: List of integers to consider\n",
    "    \"\"\"\n",
    "    M = len(N_arr)\n",
    "    #Determine size of grid neccesary\n",
    "    m_1 = int(np.sqrt(M))\n",
    "    m_2 = int(np.ceil(M/m_1))\n",
    "    fig,axs = plt.subplots(nrows=m_1,\n",
    "                           ncols=m_2)\n",
    "    for count,N in enumerate(N_arr):\n",
    "        #Determine Place in Grid\n",
    "        if m_1 == 1:\n",
    "            rel_axs = axs[count]\n",
    "        else:\n",
    "            x_val = count//m_2\n",
    "            y_val = count%m_2\n",
    "            rel_axs = axs[x_val,y_val]\n",
    "        #Compute Truth\n",
    "        times = np.linspace(-np.pi,np.pi,1000)\n",
    "        u_N_truth = u_N_vec(x=times,N=N)\n",
    "        eval_points = np.pi/(N+1)*np.array(range(-N,N+1))\n",
    "        #Form vector for FFT\n",
    "        x = np.array([2/(j+1)*np.power(-1,j) for j in range(N)])\n",
    "        y = DST_1(x)\n",
    "        eval = np.zeros(2*N+1,dtype=complex)\n",
    "        eval[-N:] = y\n",
    "        eval[:N] = -y[::-1]\n",
    "        rel_axs.plot(times,np.real(u_N_truth),label=\"Truth\")\n",
    "        rel_axs.plot(eval_points,np.real(eval),label=\"Straight-line\")\n",
    "        rel_axs.set_title(f\"N = {N}\")\n",
    "\n",
    "    #Add Shared Legend\n",
    "    if m_1 == 1:\n",
    "        handles,labels = axs[-1].get_legend_handles_labels()\n",
    "    else:\n",
    "        handles, labels = axs[-1,-1].get_legend_handles_labels()\n",
    "    fig.legend(handles, labels, loc='upper right')\n",
    "    #Add Shared Title\n",
    "    fig.suptitle(\"Comparison of Truth Versus Approximation\\n Across a Range of N\")\n",
    "    plt.tight_layout()\n",
    "    #Plot\n",
    "    plt.show()\n",
    "\n",
    "\n",
    "def plot_v_N_vs_truth(N_arr:List[int]):\n",
    "    \"\"\"\n",
    "    Plots u_N computed by straight line\n",
    "    interpolation of FFT of points\n",
    "    as described in the problem vs the true \n",
    "    curve\n",
    "\n",
    "    Parameters:\n",
    "    ----------\n",
    "    N_arr: List of integers to consider\n",
    "    \"\"\"\n",
    "    M = len(N_arr)\n",
    "    m_1 = int(np.sqrt(M))\n",
    "    m_2 = int(np.ceil(M/m_1))\n",
    "    fig,axs = plt.subplots(nrows=m_1,\n",
    "                           ncols=m_2)\n",
    "    for count,N in enumerate(N_arr):\n",
    "        #Find where this value should fit into array\n",
    "        if m_1 == 1:\n",
    "            rel_axs = axs[count]\n",
    "        else:\n",
    "            x_val = count//m_2\n",
    "            y_val = count%m_2\n",
    "            rel_axs = axs[x_val,y_val]\n",
    "        #Compute Truth\n",
    "        times = np.linspace(-np.pi,np.pi,1000)\n",
    "        v_N_truth = v_N_vec(x=times,N=N)\n",
    "        eval_points = np.pi/(N-1)*np.array(range(-(N-1),N))\n",
    "        #Form relevant vector for FFT\n",
    "        x = np.zeros(N)\n",
    "        x[0]= np.pi\n",
    "        x[1:] = np.array([2*np.power(j,-2.0)*(np.cos(np.pi*j)-1)/np.pi for j in range(1,N)])\n",
    "        y = DCT_1(x)\n",
    "        eval = np.zeros(2*N-1,dtype=complex)\n",
    "        eval[-N:] = y\n",
    "        eval[:N] = y[::-1]\n",
    "        #Cast to real to avoid warning and plot\n",
    "        rel_axs.plot(times,np.real(v_N_truth),label=\"Truth\")\n",
    "        rel_axs.plot(eval_points,np.real(eval),label=\"Straight-line\")\n",
    "        rel_axs.set_title(f\"N = {N}\")\n",
    "\n",
    "    #Add Shared Legend\n",
    "    if m_1 == 1:\n",
    "        handles,labels = axs[-1].get_legend_handles_labels()\n",
    "    else:\n",
    "        handles, labels = axs[-1,-1].get_legend_handles_labels()\n",
    "    fig.legend(handles, labels, loc='upper right')\n",
    "    #Add title\n",
    "    fig.suptitle(\"Comparison of Truth Versus Approximation\\n Across a Range of N\")\n",
    "    plt.tight_layout()\n",
    "    #Plot\n",
    "    plt.show()"
   ]
  },
  {
   "cell_type": "code",
   "execution_count": null,
   "metadata": {},
   "outputs": [],
   "source": [
    "plot_u_N_vs_truth(N_arr=N_arr)"
   ]
  },
  {
   "cell_type": "code",
   "execution_count": null,
   "metadata": {},
   "outputs": [],
   "source": [
    "plot_v_N_vs_truth(N_arr=N_arr)"
   ]
  }
 ],
 "metadata": {
  "kernelspec": {
   "display_name": "Python 3",
   "language": "python",
   "name": "python3"
  },
  "language_info": {
   "codemirror_mode": {
    "name": "ipython",
    "version": 3
   },
   "file_extension": ".py",
   "mimetype": "text/x-python",
   "name": "python",
   "nbconvert_exporter": "python",
   "pygments_lexer": "ipython3",
   "version": "3.11.2"
  }
 },
 "nbformat": 4,
 "nbformat_minor": 2
}
